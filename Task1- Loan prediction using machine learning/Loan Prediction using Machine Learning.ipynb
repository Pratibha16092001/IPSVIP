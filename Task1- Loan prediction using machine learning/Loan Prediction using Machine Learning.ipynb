{
 "cells": [
  {
   "cell_type": "markdown",
   "id": "46708beb",
   "metadata": {},
   "source": [
    "# Infopillar Solution"
   ]
  },
  {
   "cell_type": "markdown",
   "id": "1af1f153",
   "metadata": {},
   "source": [
    "# Name- Pratibha Rakhama Antre"
   ]
  },
  {
   "cell_type": "markdown",
   "id": "4515f642",
   "metadata": {},
   "source": [
    "# Task1- Loan prediction using machine learning"
   ]
  },
  {
   "cell_type": "markdown",
   "id": "a123d228",
   "metadata": {},
   "source": [
    "# Dataset=http://lib.stat.cmu.edu/datasets/boston"
   ]
  },
  {
   "cell_type": "markdown",
   "id": "4f3c72e8",
   "metadata": {},
   "source": [
    "# Project idea – The idea behind this ML project is to build a model that will classify how much loan the user can take. It is based on the user’s marital status, education, number of dependents, and employments."
   ]
  },
  {
   "cell_type": "markdown",
   "id": "41c46c66",
   "metadata": {},
   "source": [
    "# Import required libraries"
   ]
  },
  {
   "cell_type": "code",
   "execution_count": 1,
   "id": "83e1c6e1",
   "metadata": {},
   "outputs": [],
   "source": [
    "import pandas as pd\n",
    "import numpy as np\n",
    "import seaborn as sns\n",
    "from sklearn.datasets import load_boston\n",
    "from sklearn.linear_model import LinearRegression\n",
    "from sklearn.model_selection import train_test_split\n",
    "from sklearn import metrics\n",
    "from sklearn.metrics import mean_absolute_error,mean_squared_error,r2_score"
   ]
  },
  {
   "cell_type": "markdown",
   "id": "a3151f1c",
   "metadata": {},
   "source": [
    "# Read the dataset"
   ]
  },
  {
   "cell_type": "code",
   "execution_count": 2,
   "id": "4d5599c0",
   "metadata": {},
   "outputs": [
    {
     "name": "stdout",
     "output_type": "stream",
     "text": [
      "[[6.3200e-03 1.8000e+01 2.3100e+00 ... 1.5300e+01 3.9690e+02 4.9800e+00]\n",
      " [2.7310e-02 0.0000e+00 7.0700e+00 ... 1.7800e+01 3.9690e+02 9.1400e+00]\n",
      " [2.7290e-02 0.0000e+00 7.0700e+00 ... 1.7800e+01 3.9283e+02 4.0300e+00]\n",
      " ...\n",
      " [6.0760e-02 0.0000e+00 1.1930e+01 ... 2.1000e+01 3.9690e+02 5.6400e+00]\n",
      " [1.0959e-01 0.0000e+00 1.1930e+01 ... 2.1000e+01 3.9345e+02 6.4800e+00]\n",
      " [4.7410e-02 0.0000e+00 1.1930e+01 ... 2.1000e+01 3.9690e+02 7.8800e+00]]\n"
     ]
    }
   ],
   "source": [
    "boston = load_boston()\n",
    "print(boston.data)"
   ]
  },
  {
   "cell_type": "markdown",
   "id": "4784b22b",
   "metadata": {},
   "source": [
    "# Clean & preprocess the data"
   ]
  },
  {
   "cell_type": "code",
   "execution_count": 3,
   "id": "3e591e39",
   "metadata": {},
   "outputs": [
    {
     "data": {
      "text/plain": [
       "(506, 13)"
      ]
     },
     "execution_count": 3,
     "metadata": {},
     "output_type": "execute_result"
    }
   ],
   "source": [
    "boston.data.shape"
   ]
  },
  {
   "cell_type": "code",
   "execution_count": 4,
   "id": "a2e14054",
   "metadata": {},
   "outputs": [
    {
     "data": {
      "text/plain": [
       "6578"
      ]
     },
     "execution_count": 4,
     "metadata": {},
     "output_type": "execute_result"
    }
   ],
   "source": [
    "boston.data.size"
   ]
  },
  {
   "cell_type": "markdown",
   "id": "41d418a8",
   "metadata": {},
   "source": [
    "# Convert it into a DataFrame"
   ]
  },
  {
   "cell_type": "code",
   "execution_count": 5,
   "id": "fd49c9e7",
   "metadata": {},
   "outputs": [],
   "source": [
    "boston_df=pd.DataFrame(boston.data)"
   ]
  },
  {
   "cell_type": "code",
   "execution_count": 6,
   "id": "97745553",
   "metadata": {},
   "outputs": [],
   "source": [
    "boston_df.columns=boston.feature_names"
   ]
  },
  {
   "cell_type": "code",
   "execution_count": 7,
   "id": "bf5c94e3",
   "metadata": {
    "scrolled": true
   },
   "outputs": [
    {
     "name": "stdout",
     "output_type": "stream",
     "text": [
      "      CRIM    ZN  INDUS  CHAS    NOX     RM   AGE     DIS  RAD    TAX  \\\n",
      "0  0.00632  18.0   2.31   0.0  0.538  6.575  65.2  4.0900  1.0  296.0   \n",
      "1  0.02731   0.0   7.07   0.0  0.469  6.421  78.9  4.9671  2.0  242.0   \n",
      "2  0.02729   0.0   7.07   0.0  0.469  7.185  61.1  4.9671  2.0  242.0   \n",
      "3  0.03237   0.0   2.18   0.0  0.458  6.998  45.8  6.0622  3.0  222.0   \n",
      "4  0.06905   0.0   2.18   0.0  0.458  7.147  54.2  6.0622  3.0  222.0   \n",
      "\n",
      "   PTRATIO       B  LSTAT  PRICE  \n",
      "0     15.3  396.90   4.98   24.0  \n",
      "1     17.8  396.90   9.14   21.6  \n",
      "2     17.8  392.83   4.03   34.7  \n",
      "3     18.7  394.63   2.94   33.4  \n",
      "4     18.7  396.90   5.33   36.2  \n"
     ]
    }
   ],
   "source": [
    "boston_df['PRICE']=boston.target\n",
    "print(boston_df.head())"
   ]
  },
  {
   "cell_type": "markdown",
   "id": "c088a8b1",
   "metadata": {},
   "source": [
    "# Plotting"
   ]
  },
  {
   "cell_type": "code",
   "execution_count": 8,
   "id": "962b20b2",
   "metadata": {},
   "outputs": [
    {
     "data": {
      "text/plain": [
       "<seaborn.axisgrid.FacetGrid at 0x7f156c419400>"
      ]
     },
     "execution_count": 8,
     "metadata": {},
     "output_type": "execute_result"
    },
    {
     "data": {
      "image/png": "[encoded data removed]",
      "text/plain": [
       "<Figure size 360x360 with 1 Axes>"
      ]
     },
     "metadata": {
      "needs_background": "light"
     },
     "output_type": "display_data"
    }
   ],
   "source": [
    "sns.displot(boston_df['PRICE'])"
   ]
  },
  {
   "cell_type": "code",
   "execution_count": 9,
   "id": "f11d1eaf",
   "metadata": {},
   "outputs": [
    {
     "data": {
      "text/plain": [
       "CRIM       0\n",
       "ZN         0\n",
       "INDUS      0\n",
       "CHAS       0\n",
       "NOX        0\n",
       "RM         0\n",
       "AGE        0\n",
       "DIS        0\n",
       "RAD        0\n",
       "TAX        0\n",
       "PTRATIO    0\n",
       "B          0\n",
       "LSTAT      0\n",
       "PRICE      0\n",
       "dtype: int64"
      ]
     },
     "execution_count": 9,
     "metadata": {},
     "output_type": "execute_result"
    }
   ],
   "source": [
    "#To check is there any column null or not\n",
    "boston_df.isnull().sum()"
   ]
  },
  {
   "cell_type": "markdown",
   "id": "b043317b",
   "metadata": {},
   "source": [
    "# Divide the Dataset"
   ]
  },
  {
   "cell_type": "code",
   "execution_count": 10,
   "id": "cc37ee96",
   "metadata": {},
   "outputs": [],
   "source": [
    "X = boston_df.iloc[:,:-1].values\n",
    "y = boston_df.iloc[:,-1].values"
   ]
  },
  {
   "cell_type": "markdown",
   "id": "28b10114",
   "metadata": {},
   "source": [
    "# Divide Dataset into Train and Test"
   ]
  },
  {
   "cell_type": "code",
   "execution_count": 11,
   "id": "33e763c2",
   "metadata": {},
   "outputs": [],
   "source": [
    "X_train, X_test, y_train, y_test = train_test_split(X, y, test_size = 0.3, random_state = 80)"
   ]
  },
  {
   "cell_type": "markdown",
   "id": "f120e3ef",
   "metadata": {},
   "source": [
    "# Build the model"
   ]
  },
  {
   "cell_type": "code",
   "execution_count": 12,
   "id": "40ce466c",
   "metadata": {},
   "outputs": [
    {
     "data": {
      "text/plain": [
       "LinearRegression()"
      ]
     },
     "execution_count": 12,
     "metadata": {},
     "output_type": "execute_result"
    }
   ],
   "source": [
    "linear_Regression_Model = LinearRegression()\n",
    "linear_Regression_Model.fit(X_train,y_train)"
   ]
  },
  {
   "cell_type": "code",
   "execution_count": 13,
   "id": "f26bf238",
   "metadata": {},
   "outputs": [
    {
     "name": "stdout",
     "output_type": "stream",
     "text": [
      "Coefficients: \n",
      " [-1.07418254e-01  5.22010486e-02  4.98839331e-02  3.01057658e+00\n",
      " -1.76082726e+01  3.67308035e+00  1.11587846e-02 -1.47581694e+00\n",
      "  2.96069876e-01 -1.12908159e-02 -8.71508287e-01  9.76006235e-03\n",
      " -6.27739570e-01]\n"
     ]
    }
   ],
   "source": [
    "#Value of m\n",
    "print('Coefficients: \\n',linear_Regression_Model.coef_)"
   ]
  },
  {
   "cell_type": "code",
   "execution_count": 14,
   "id": "9ca6429d",
   "metadata": {},
   "outputs": [
    {
     "name": "stdout",
     "output_type": "stream",
     "text": [
      "Value of C is : 35.54288746845871\n"
     ]
    }
   ],
   "source": [
    "# Value of C\n",
    "print(\"Value of C is :\",linear_Regression_Model.intercept_)"
   ]
  },
  {
   "cell_type": "markdown",
   "id": "654af9cb",
   "metadata": {},
   "source": [
    "# Do the Prediction"
   ]
  },
  {
   "cell_type": "code",
   "execution_count": 15,
   "id": "01d6a285",
   "metadata": {},
   "outputs": [],
   "source": [
    "y_pred = linear_Regression_Model.predict(X_test)"
   ]
  },
  {
   "cell_type": "code",
   "execution_count": 16,
   "id": "ed546582",
   "metadata": {},
   "outputs": [
    {
     "data": {
      "text/plain": [
       "array([19.45770639, 37.19931993, 25.12570498, 22.04299495, 24.0390742 ,\n",
       "       35.05747632, 41.06247637, 24.71906144, 27.56081018, 21.97440284,\n",
       "       13.98492549, 23.77895314, 23.95798135, 21.9046238 , 23.32527841,\n",
       "       28.45009098, 33.57734904, 17.81687675, 23.39112491, 25.59623451,\n",
       "       12.91547066, 20.19655606, 20.78434122, 19.63332874, 17.02608918,\n",
       "       35.14546455, 22.88487269, 15.59625493, 23.52495483, 25.82525054,\n",
       "       17.47918033, 27.63068766, 26.51307142, 20.77431267, 17.86850615,\n",
       "       17.00308732, 34.57098727, 20.78936443, 21.26211944, 11.99603219,\n",
       "       31.02787895, 37.99328397, 28.77055143, 31.03580241, 25.17559352,\n",
       "       27.14684614, 17.93383898, 29.54029832, 26.14956244, 15.82026912,\n",
       "       18.22109912, 20.10636887, 17.40298161, 24.24173726, 18.88102308,\n",
       "       13.58084297, 34.78283907, 19.33259781, 20.76432096, 18.65511866,\n",
       "       24.14761938, 25.57062518, 29.46123453, 27.49368177, 31.49636075,\n",
       "       36.89202583, 19.92549096, 35.4941753 , 12.93393197, 12.93180598,\n",
       "       22.6856984 , 15.78527689, 13.98407219, 22.3174038 , 30.08078095,\n",
       "       24.88705305, 20.91153365, 21.17857153, 18.75500638, 31.08175593,\n",
       "       20.32509969, 14.00450881, 17.3540463 ,  8.14179502, 16.87404026,\n",
       "       20.6477409 , 17.11788239, 16.67644706, 19.64855104, 38.80484125,\n",
       "       31.53801246, 23.60590365, 33.70593976, 13.79670694, 21.37341078,\n",
       "       18.45206563, 13.3468561 , 32.05653116, 35.34734893,  4.92214442,\n",
       "       20.64481791, 25.21053539, 16.54888775, 38.59263431, 34.60434462,\n",
       "       38.24162844, 20.16680437, 19.91370224, 24.54069808, -5.77414586,\n",
       "       20.04410622, 29.25012709, 15.74851134, 21.20739621,  0.42173495,\n",
       "       23.08869561, 27.82232057, 14.52778552, 14.65388619, 19.78905762,\n",
       "       18.34650158, 30.79688013, 20.15075655, 25.33921765, 22.74418406,\n",
       "        8.82572737, 12.82817581, 18.86808993, 13.62308462, 27.53667433,\n",
       "       16.27765764, 14.40396741, 17.96686481,  5.64020604, 24.58902749,\n",
       "       26.85352983, 14.60315466, 16.13387507, 32.39580265, 21.68691283,\n",
       "       24.01044034, 18.1030003 , 20.09391966, 14.56191182, 22.56967039,\n",
       "       24.56421831, 26.23017736, 31.80586753, 30.50149073,  8.52607377,\n",
       "       10.88613134, 16.43579484])"
      ]
     },
     "execution_count": 16,
     "metadata": {},
     "output_type": "execute_result"
    }
   ],
   "source": [
    "y_pred"
   ]
  },
  {
   "cell_type": "markdown",
   "id": "b152b0ca",
   "metadata": {},
   "source": [
    "# Evaluate the model"
   ]
  },
  {
   "cell_type": "code",
   "execution_count": 17,
   "id": "f594030e",
   "metadata": {},
   "outputs": [
    {
     "name": "stdout",
     "output_type": "stream",
     "text": [
      "Mean Absolute Error     : 2.8760813890529957\n",
      "Mean Squared Error      : 16.241848626738406\n",
      "Root Mean Squared Error : 4.0301176939065195\n",
      "R2 score is             : 0.7429669842220965\n"
     ]
    }
   ],
   "source": [
    "print(\"Mean Absolute Error     :\",mean_absolute_error(y_pred,y_test))\n",
    "print(\"Mean Squared Error      :\",mean_squared_error(y_test,y_pred))\n",
    "print(\"Root Mean Squared Error :\",np.sqrt(mean_squared_error(y_test,y_pred)))\n",
    "print(\"R2 score is             :\",r2_score(y_test,y_pred))"
   ]
  },
  {
   "cell_type": "markdown",
   "id": "59f45b89",
   "metadata": {},
   "source": [
    "# Plot prediction line"
   ]
  },
  {
   "cell_type": "code",
   "execution_count": 18,
   "id": "244906d4",
   "metadata": {},
   "outputs": [
    {
     "name": "stderr",
     "output_type": "stream",
     "text": [
      "/home/pratibhaantre/anaconda3/lib/python3.8/site-packages/seaborn/_decorators.py:36: FutureWarning: Pass the following variables as keyword args: x, y. From version 0.12, the only valid positional argument will be `data`, and passing other arguments without an explicit keyword will result in an error or misinterpretation.\n",
      "  warnings.warn(\n"
     ]
    },
    {
     "data": {
      "text/plain": [
       "<AxesSubplot:>"
      ]
     },
     "execution_count": 18,
     "metadata": {},
     "output_type": "execute_result"
    },
    {
     "data": {
      "image/png": "[encoded data removed]",
      "text/plain": [
       "<Figure size 432x288 with 1 Axes>"
      ]
     },
     "metadata": {
      "needs_background": "light"
     },
     "output_type": "display_data"
    }
   ],
   "source": [
    "sns.regplot(y_test, y_pred)"
   ]
  },
  {
   "cell_type": "markdown",
   "id": "36df9888",
   "metadata": {},
   "source": [
    "# Conclusion- We have got the accuracy for model is 74.29% "
   ]
  },
  {
   "cell_type": "code",
   "execution_count": null,
   "id": "6971e330",
   "metadata": {},
   "outputs": [],
   "source": []
  }
 ],
 "metadata": {
  "kernelspec": {
   "display_name": "Python 3",
   "language": "python",
   "name": "python3"
  },
  "language_info": {
   "codemirror_mode": {
    "name": "ipython",
    "version": 3
   },
   "file_extension": ".py",
   "mimetype": "text/x-python",
   "name": "python",
   "nbconvert_exporter": "python",
   "pygments_lexer": "ipython3",
   "version": "3.8.8"
  }
 },
 "nbformat": 4,
 "nbformat_minor": 5
}
